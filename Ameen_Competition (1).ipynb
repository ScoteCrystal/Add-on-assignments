{
  "nbformat": 4,
  "nbformat_minor": 0,
  "metadata": {
    "colab": {
      "provenance": []
    },
    "kernelspec": {
      "name": "python3",
      "display_name": "Python 3"
    },
    "language_info": {
      "name": "python"
    }
  },
  "cells": [
    {
      "cell_type": "markdown",
      "source": [
        "**QUESTION 1 :-**"
      ],
      "metadata": {
        "id": "8du3jwZx-mTY"
      }
    },
    {
      "cell_type": "code",
      "source": [
        "'''Write a Python function to accept a string value from the user and display the\n",
        "count of each character in that string. Sample input: Enter a string value:\n",
        "assembly Sample output: a=1, s=2, e=1, m=1, b=1, l=1, y=1 '''\n",
        "\n",
        "def count_characters(string):\n",
        "  counts = {}\n",
        "  for char in string:\n",
        "    counts[char] = counts.get(char, 0) + 1\n",
        "  return counts\n",
        "\n",
        "string = input(\"Enter a string value: \")\n",
        "counts = count_characters(string)\n",
        "for char, count in counts.items():\n",
        "  print(f\"{char}={count}\")\n"
      ],
      "metadata": {
        "colab": {
          "base_uri": "https://localhost:8080/"
        },
        "id": "MOJeGi5n-txo",
        "outputId": "59bcf1c6-b126-4184-ab61-1633be9fa630"
      },
      "execution_count": 82,
      "outputs": [
        {
          "output_type": "stream",
          "name": "stdout",
          "text": [
            "Enter a string value: Ameen\n",
            "A=1\n",
            "m=1\n",
            "e=2\n",
            "n=1\n"
          ]
        }
      ]
    },
    {
      "cell_type": "markdown",
      "source": [
        "**QUESTION 2 :-**"
      ],
      "metadata": {
        "id": "lmZh6E_dDRJ9"
      }
    },
    {
      "cell_type": "code",
      "source": [
        "'''Write a Python function to find the maximum of three numbers Sample input:\n",
        "34,12,7 Sample output: 34'''\n",
        "\n",
        "def max(x,y,z):\n",
        "  if x>y and x>z:\n",
        "    print(a,\"is the greatest\")\n",
        "  elif y>x and y>z:\n",
        "    print(b,\"is the greatest\")\n",
        "  else:\n",
        "    print(c,\"is the greatest\")\n",
        "\n",
        "x=int(input(\"Enter the first number :\"))\n",
        "y=int(input(\"Enter the second number :\"))\n",
        "z=int(input(\"Enter the third number :\"))\n",
        "max(x,y,z)"
      ],
      "metadata": {
        "colab": {
          "base_uri": "https://localhost:8080/"
        },
        "id": "AzRuc6QY_pXh",
        "outputId": "f07b2595-14a4-48cd-d062-5f8ae64b802d"
      },
      "execution_count": 18,
      "outputs": [
        {
          "output_type": "stream",
          "name": "stdout",
          "text": [
            "Enter the first number :34\n",
            "Enter the second number :12\n",
            "Enter the third number :7\n",
            "34 is the greatest\n"
          ]
        }
      ]
    },
    {
      "cell_type": "markdown",
      "source": [
        "**QUESTION 3 :-**"
      ],
      "metadata": {
        "id": "BI_WCsuyDVy1"
      }
    },
    {
      "cell_type": "code",
      "source": [
        "'''Write a Python function called exponent(base,exp) that returns an integer\n",
        "value of base raises to the power of exp. Sample input: Enter the base: 2\n",
        "Enter the exponent: 3 Sample output: 8'''\n",
        "\n",
        "def exponent(base,exp):\n",
        "  ans=base**exp\n",
        "  return ans\n",
        "\n",
        "a=int(input(\"Enter the Base number: \"))\n",
        "b=int(input(\"Enter the Exponent number: \"))\n",
        "c=exponent(a,b)\n",
        "print(\"The Answer is :\",c)"
      ],
      "metadata": {
        "colab": {
          "base_uri": "https://localhost:8080/"
        },
        "id": "p2ys54mqDIKd",
        "outputId": "5cf5ead2-336a-431b-b822-e2f0aa29327d"
      },
      "execution_count": 17,
      "outputs": [
        {
          "output_type": "stream",
          "name": "stdout",
          "text": [
            "Enter the Base number: 2\n",
            "Enter the Exponent number: 3\n",
            "The Answer is : 8\n"
          ]
        }
      ]
    },
    {
      "cell_type": "markdown",
      "source": [
        "**QUESTION 4 :-**"
      ],
      "metadata": {
        "id": "f3-nqEmCKlOA"
      }
    },
    {
      "cell_type": "code",
      "source": [
        "'''Write a Python function that takes a positive integer and returns the sum of\n",
        "the cube of all the positive integers smaller than the specified number.\n",
        "Sample input: 4 Sample output: 36.'''\n",
        "\n",
        "def sumofcube(a):\n",
        "  sum=0\n",
        "  if a>0:\n",
        "    for i in range(1,a):\n",
        "      sum+=i**3\n",
        "  else:\n",
        "    print(\"The given number is not a positive integer!\")\n",
        "  return sum\n",
        "\n",
        "a=int(input(\"Enter the number: \"))\n",
        "b=sumofcube(a)\n",
        "print(\"The sum of positive squared smaller than the specified number is:\",b)\n",
        "\n"
      ],
      "metadata": {
        "colab": {
          "base_uri": "https://localhost:8080/"
        },
        "id": "Qv6QI-DgKpgW",
        "outputId": "08683aae-1797-40d3-baf2-3009e38553f9"
      },
      "execution_count": 22,
      "outputs": [
        {
          "output_type": "stream",
          "name": "stdout",
          "text": [
            "Enter the number: 4\n",
            "The sum of positive squared smaller than the specified number is: 36\n"
          ]
        }
      ]
    },
    {
      "cell_type": "markdown",
      "source": [
        "**QUESTION 5 :-**"
      ],
      "metadata": {
        "id": "At9U_H49MkMi"
      }
    },
    {
      "cell_type": "code",
      "source": [
        "'''Write a Python program which iterates from 1 to 10. For multiples of 2, print\n",
        "“Fizz” instead of the number and for the multiples of 5, print “Buzz”. For\n",
        "numbers which are multiples of both 2 and 5, print “FizzBuzz”. Sample input:\n",
        "numbers from 1 to 10 Sample output: 1 Fizz 3 Fizz Buzz Fizz 7 Fizz 9\n",
        "FizzBuzz'''\n",
        "\n",
        "for i in range(1,11):\n",
        "  if i%2==0 and i%5==0:\n",
        "    print(\"FizzBuzz\",end=\" \")\n",
        "  elif i%2==0:\n",
        "    print(\"Fizz\",end=\" \")\n",
        "  elif i%5==0:\n",
        "    print(\"Buzz\",end=\" \")\n",
        "  else:\n",
        "    print(i,end=\" \")"
      ],
      "metadata": {
        "colab": {
          "base_uri": "https://localhost:8080/"
        },
        "id": "f1R7OsMGMpQx",
        "outputId": "6cd88de5-305b-4c71-88b2-42b7f9fd1dc0"
      },
      "execution_count": 27,
      "outputs": [
        {
          "output_type": "stream",
          "name": "stdout",
          "text": [
            "1 Fizz 3 Fizz Buzz Fizz 7 Fizz 9 FizzBuzz "
          ]
        }
      ]
    },
    {
      "cell_type": "markdown",
      "source": [
        "**QUESTION 6 :-**"
      ],
      "metadata": {
        "id": "KptE0nT9N9jN"
      }
    },
    {
      "cell_type": "code",
      "source": [
        "'''Write a Python function to find the most frequent item in a list of numbers.\n",
        "Sample input: 2, 3, 4, 2, 5, 2 Sample output: 2'''\n",
        "\n",
        "def commonno(L):\n",
        "  maxcount=0\n",
        "  mostfrequent=0\n",
        "  for i in L:\n",
        "    count=L.count(i)\n",
        "    if count>maxcount:\n",
        "      mostfrequent=i\n",
        "      maxcount=count\n",
        "    elif maxcount==1:\n",
        "      print(\"There is no frequent number!\")\n",
        "      break\n",
        "  return mostfrequent,maxcount\n",
        "\n",
        "L=[]\n",
        "n=int(input(\"Enter the amount of numbers to be inputted into the list: \"))\n",
        "for i in range(0,n):\n",
        "  a=int(input(\"Enter the Number: \"))\n",
        "  L.append(a)\n",
        "b,c=commonno(L)\n",
        "if c!=1:\n",
        "  print(\"The most frequent item is:\",b,\"and its count is:\",c)\n"
      ],
      "metadata": {
        "colab": {
          "base_uri": "https://localhost:8080/"
        },
        "id": "gyTLHbFYOCBB",
        "outputId": "1bdaeacb-7740-4006-dab3-42040f923fc4"
      },
      "execution_count": 50,
      "outputs": [
        {
          "output_type": "stream",
          "name": "stdout",
          "text": [
            "Enter the amount of numbers to be inputted into the list: 3\n",
            "Enter the Number: 1\n",
            "Enter the Number: 2\n",
            "Enter the Number: 2\n",
            "The most frequent item is: 2 and its count is: 2\n"
          ]
        }
      ]
    },
    {
      "cell_type": "markdown",
      "source": [
        "**QUESTION 7 :-**"
      ],
      "metadata": {
        "id": "D48fVHKyTaT8"
      }
    },
    {
      "cell_type": "code",
      "source": [
        "'''Write a Python function to find the sum of squares of the numbers in a list.\n",
        "Sample input: 2,1,3,1 Sample output: 15'''\n",
        "\n",
        "def sumofsquare(L):\n",
        "  sum=0\n",
        "  for i in L:\n",
        "    sum+=i**2\n",
        "  return sum\n",
        "\n",
        "L=[]\n",
        "n=int(input(\"Enter the amount of numbers to be inputted: \"))\n",
        "for i in range(0,n):\n",
        "  a=int(input(\"Enter the number: \"))\n",
        "  L.append(a)\n",
        "b=sumofsquare(L)\n",
        "print(\"The sum of squares of the given numbers is:\",b)"
      ],
      "metadata": {
        "colab": {
          "base_uri": "https://localhost:8080/"
        },
        "id": "AHdvNP5xTeQn",
        "outputId": "f56c1dc6-44ad-44c8-ca9f-b5e758a08dde"
      },
      "execution_count": 52,
      "outputs": [
        {
          "output_type": "stream",
          "name": "stdout",
          "text": [
            "Enter the amount of numbers to be inputted: 4\n",
            "Enter the number: 2\n",
            "Enter the number: 1\n",
            "Enter the number: 3\n",
            "Enter the number: 1\n",
            "The sum of squares of the given numbers is: 15\n"
          ]
        }
      ]
    },
    {
      "cell_type": "markdown",
      "source": [
        "**QUESTION 8 :-**"
      ],
      "metadata": {
        "id": "5rbp6SN6eLlO"
      }
    },
    {
      "cell_type": "code",
      "source": [
        "'''Write a Python program using for loop that will iterate from 1 to 15. For each\n",
        "iteration, check if the current number is odd or even, and display the message\n",
        "to the screen as odd or even. Sample input: 1….15 Sample output: 1-odd 2-\n",
        "even …. 15-odd'''\n",
        "\n",
        "for i in range(0,16):\n",
        "  if i%2==0:\n",
        "    print(i,\"is even!\")\n",
        "  else:\n",
        "    print(i,\"is odd!\")"
      ],
      "metadata": {
        "colab": {
          "base_uri": "https://localhost:8080/"
        },
        "id": "icGE2F4oePY6",
        "outputId": "180066c8-18eb-4b66-9f3a-4d01e98e0ffa"
      },
      "execution_count": 53,
      "outputs": [
        {
          "output_type": "stream",
          "name": "stdout",
          "text": [
            "0 is even!\n",
            "1 is odd!\n",
            "2 is even!\n",
            "3 is odd!\n",
            "4 is even!\n",
            "5 is odd!\n",
            "6 is even!\n",
            "7 is odd!\n",
            "8 is even!\n",
            "9 is odd!\n",
            "10 is even!\n",
            "11 is odd!\n",
            "12 is even!\n",
            "13 is odd!\n",
            "14 is even!\n",
            "15 is odd!\n"
          ]
        }
      ]
    },
    {
      "cell_type": "markdown",
      "source": [
        "**QUESTION 9 :-**"
      ],
      "metadata": {
        "id": "VNEZ9znReheE"
      }
    },
    {
      "cell_type": "code",
      "source": [
        "'''Write a Python function to convert temperatures to and from Celsius\n",
        "Fahrenheit. [Formula: c/5=f-32/9 where c=temperature in Celsius and f=\n",
        "temperature in Fahrenheit.] Sample input: Temperature in Fahrenheit =41\n",
        "Sample output: Temperature in Celsius =5'''\n",
        "\n",
        "def TempFtoC(F):\n",
        "  a=(F-32)*5/9\n",
        "  return a\n",
        "\n",
        "def TempCtoF(C):\n",
        "  a=(C*9/5)+32\n",
        "  return a\n",
        "\n",
        "m=int(input(\"Enter the temperature: \"))\n",
        "n=input(\"Which conversion do you want?(C OR F): \")\n",
        "if n=='C' or n=='c':\n",
        "  a=TempCtoF(m)\n",
        "  print(\"The temperature in Fahrenheit when converted from Celsius is:\",a)\n",
        "elif n=='F' or n=='f':\n",
        "  b=TempFtoC(m)\n",
        "  print(\"The temperature in Celsius when converted from Fahrenheit is:\",b)\n"
      ],
      "metadata": {
        "colab": {
          "base_uri": "https://localhost:8080/"
        },
        "id": "cXs8usuKelDi",
        "outputId": "760d8b69-512b-4639-cbb5-237f0d1acdc8"
      },
      "execution_count": 63,
      "outputs": [
        {
          "output_type": "stream",
          "name": "stdout",
          "text": [
            "Enter the temperature: 41\n",
            "Which conversion do you want?(C OR F): F\n",
            "The temperature in Celsius when converted from Fahrenheit is: 5.0\n"
          ]
        }
      ]
    },
    {
      "cell_type": "markdown",
      "source": [
        "**QUESTION 10 :-**"
      ],
      "metadata": {
        "id": "PqPFWfOThP-s"
      }
    },
    {
      "cell_type": "code",
      "source": [
        "'''Write a Python function to calculate the factorial of a number (a nonnegative\n",
        "integer). The function accepts the number as an argument. Sample input: 3\n",
        "Sample output: 6'''\n",
        "\n",
        "def Factorial(n):\n",
        "  factorial=0\n",
        "  for i in range(0,n+1):\n",
        "    factorial+=i\n",
        "  print(\"The factorial of the number is:\",factorial)\n",
        "\n",
        "n=int(input(\"Enter the number: \"))\n",
        "Factorial(n)\n"
      ],
      "metadata": {
        "colab": {
          "base_uri": "https://localhost:8080/"
        },
        "id": "-p2Q2I66hUG8",
        "outputId": "ec1af9e0-5de3-4517-f49d-afd738837c1d"
      },
      "execution_count": 58,
      "outputs": [
        {
          "output_type": "stream",
          "name": "stdout",
          "text": [
            "Enter the number: 3\n",
            "The factorial of the number is: 6\n"
          ]
        }
      ]
    },
    {
      "cell_type": "markdown",
      "source": [
        "**QUESTION 11 :-**"
      ],
      "metadata": {
        "id": "o3uaeUnLilIl"
      }
    },
    {
      "cell_type": "code",
      "source": [
        "# Case Study: Grade Calculator :-\n",
        "\n",
        "def INPUTSTUD():\n",
        "  D={}\n",
        "  L=[]\n",
        "  a=input(\"Enter the name of the student: \")\n",
        "  D['Name']=a\n",
        "  b=int(input(\"Enter the number of assessments: \"))\n",
        "  for i in range(0,b):\n",
        "    c=input(\"Enter the type of the assessment: \")\n",
        "    f=input(\"Enter the name of the assessment: \")\n",
        "    d=int(input(\"Enter the marks scored on the assessment: \"))\n",
        "\n",
        "INPUTSTUD()"
      ],
      "metadata": {
        "colab": {
          "base_uri": "https://localhost:8080/"
        },
        "id": "PWppuqa7i46G",
        "outputId": "9510b535-86b7-4237-9d5b-1846b07fcdf1"
      },
      "execution_count": 72,
      "outputs": [
        {
          "name": "stdout",
          "output_type": "stream",
          "text": [
            "Enter the name of the student: Ameen\n",
            "Enter the number of assessments: 3\n",
            "Enter the type of the assessment: Quiz\n",
            "Enter the name of the assessment: Geography\n",
            "Enter the marks scored on the assessment: 80\n",
            "Enter the type of the assessment: Internal\n",
            "Enter the name of the assessment: DM\n",
            "Enter the marks scored on the assessment: 65\n",
            "Enter the type of the assessment: Assignments\n",
            "Enter the name of the assessment: HR\n",
            "Enter the marks scored on the assessment: 79\n",
            "Enter the type of the assessment: Practical\n",
            "Enter the name of the assessment: CPP\n",
            "Enter the marks scored on the assessment: 96\n"
          ]
        }
      ]
    },
    {
      "cell_type": "code",
      "source": [
        "#Case Study: Grade Calculator\n",
        "\n",
        "def calculate_final_grade():\n",
        "  student_name = input(\"Enter the student's name: \")\n",
        "  num_assessment_types = int(input(\"Enter the number of assessment types: \"))\n",
        "  assessment_types = {}\n",
        "  total_score = 0\n",
        "  total_weight = 0\n",
        "  for i in range(num_assessment_types):\n",
        "    assessment_type = input(f\"Enter the name of assessment type {i+1}: \")\n",
        "    num_assessments = int(input(f\"Enter the number of {assessment_type}: \"))\n",
        "    weight = float(input(f\"Enter the weight (percentage) of {assessment_type}: \"))\n",
        "    assessment_types[assessment_type] = {\n",
        "      \"scores\": [],\n",
        "      \"total_score\": 0,\n",
        "      \"weight\": weight\n",
        "    }\n",
        "    for j in range(num_assessments):\n",
        "      score = float(input(f\"Enter the score for {assessment_type} {j+1}: \"))\n",
        "      assessment_types[assessment_type][\"scores\"].append(score)\n",
        "      assessment_types[assessment_type][\"total_score\"] += score\n",
        "    total_score += assessment_types[assessment_type][\"total_score\"]\n",
        "    total_weight += weight\n",
        "  average_score = total_score / total_weight\n",
        "  if average_score >= 90:\n",
        "    final_grade = \"A\"\n",
        "  elif average_score >= 80:\n",
        "    final_grade = \"B\"\n",
        "  elif average_score >= 70:\n",
        "    final_grade = \"C\"\n",
        "  elif average_score >= 60:\n",
        "    final_grade = \"D\"\n",
        "  else:\n",
        "    final_grade = \"F\"\n",
        "  print(f\"\\nStudent Name: {student_name}\")\n",
        "  print(\"\\nMarks:\",assessment_types)\n",
        "  print(\"FINAL GRADE:\",final_grade)\n",
        "\n",
        "calculate_final_grade()"
      ],
      "metadata": {
        "colab": {
          "base_uri": "https://localhost:8080/"
        },
        "id": "JU0aeEsFtDjc",
        "outputId": "27a9f541-6f29-4254-a6e3-96e621e4d18b"
      },
      "execution_count": 81,
      "outputs": [
        {
          "output_type": "stream",
          "name": "stdout",
          "text": [
            "Enter the student's name: Ameen\n",
            "Enter the number of assessment types: 1\n",
            "Enter the name of assessment type 1: internal\n",
            "Enter the number of internal: 1\n",
            "Enter the weight (percentage) of internal: 100\n",
            "Enter the score for internal 1: 90\n",
            "\n",
            "Student Name: Ameen\n",
            "\n",
            "Marks: {'internal': {'scores': [90.0], 'total_score': 90.0, 'weight': 100.0}}\n",
            "FINAL GRADE: F\n"
          ]
        }
      ]
    }
  ]
}